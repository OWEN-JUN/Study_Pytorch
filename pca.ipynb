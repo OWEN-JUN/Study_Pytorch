{
 "cells": [
  {
   "cell_type": "code",
   "execution_count": 1,
   "metadata": {},
   "outputs": [],
   "source": [
    "import numpy as np\n",
    "import scipy\n",
    "import scipy.stats\n",
    "from sklearn.datasets import fetch_openml\n",
    "import matplotlib.pyplot as plt\n",
    "from ipywidgets import interact\n",
    "\n",
    "\n",
    "plt.style.use(\"fivethirtyeight\")\n",
    "\n",
    "mnist = fetch_openml(\"mnist_784\", version=1)\n",
    "images = mnist['data'].to_numpy().astype(np.double)/255\n",
    "\n",
    "def normalize(x):\n",
    "    n, d = x.shape\n",
    "    mu = np.mean(x, axis=0)\n",
    "    xbar = x - mu\n",
    "    return xbar, mu\n",
    "\n",
    "\n",
    "def eig(cov):\n",
    "    eig_vals, eig_vecs = np.linalg.eig(cov)\n",
    "    print(eig_vals, eig_vecs)\n",
    "\n",
    "\n",
    "\n",
    "\n",
    "data = np.array([[2.5,2.4],[0.5,0.7],[2.2,2.9],[1.9,2.2],[3.1,3.0],[2.3,2.7],[2,1.6],[1,1.1],[1.5,1.6],[1.1,0.9]])\n",
    "\n",
    "\n"
   ]
  },
  {
   "cell_type": "code",
   "execution_count": 2,
   "metadata": {},
   "outputs": [
    {
     "name": "stdout",
     "output_type": "stream",
     "text": [
      "(array([[ 0.69,  0.49],\n",
      "       [-1.31, -1.21],\n",
      "       [ 0.39,  0.99],\n",
      "       [ 0.09,  0.29],\n",
      "       [ 1.29,  1.09],\n",
      "       [ 0.49,  0.79],\n",
      "       [ 0.19, -0.31],\n",
      "       [-0.81, -0.81],\n",
      "       [-0.31, -0.31],\n",
      "       [-0.71, -1.01]]), array([1.81, 1.91]))\n"
     ]
    }
   ],
   "source": [
    "print(normalize(data))"
   ]
  },
  {
   "cell_type": "code",
   "execution_count": 5,
   "metadata": {},
   "outputs": [],
   "source": [
    "data_normalize, mean = normalize(data)\n",
    "cov =data_normalize.T @ data_normalize / (data.shape[0]-1)"
   ]
  },
  {
   "cell_type": "code",
   "execution_count": 7,
   "metadata": {},
   "outputs": [
    {
     "name": "stdout",
     "output_type": "stream",
     "text": [
      "[0.0490834  1.28402771] [[-0.73517866 -0.6778734 ]\n",
      " [ 0.6778734  -0.73517866]]\n"
     ]
    }
   ],
   "source": [
    "eig(cov)"
   ]
  },
  {
   "cell_type": "code",
   "execution_count": null,
   "metadata": {},
   "outputs": [],
   "source": []
  }
 ],
 "metadata": {
  "interpreter": {
   "hash": "f7b3696bbf49b2a50ef1adf7077f2aae425138456588ce2492db2fb5bbf26d67"
  },
  "kernelspec": {
   "display_name": "Python 3.9.4 64-bit",
   "language": "python",
   "name": "python3"
  },
  "language_info": {
   "codemirror_mode": {
    "name": "ipython",
    "version": 3
   },
   "file_extension": ".py",
   "mimetype": "text/x-python",
   "name": "python",
   "nbconvert_exporter": "python",
   "pygments_lexer": "ipython3",
   "version": "3.9.4"
  },
  "orig_nbformat": 4
 },
 "nbformat": 4,
 "nbformat_minor": 2
}
