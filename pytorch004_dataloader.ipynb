{
 "cells": [
  {
   "cell_type": "code",
   "execution_count": 1,
   "metadata": {},
   "outputs": [],
   "source": [
    "import torch\n",
    "import numpy as np\n",
    "from torch.utils.data import DataLoader"
   ]
  },
  {
   "cell_type": "code",
   "execution_count": 2,
   "metadata": {},
   "outputs": [],
   "source": [
    "from torch.utils.data import Dataset\n",
    "\n"
   ]
  },
  {
   "cell_type": "code",
   "execution_count": 3,
   "metadata": {},
   "outputs": [],
   "source": [
    "train_images = np.random.randint(256, size=(100,32,32,3))/255\n",
    "train_labels = np.random.randint(2, size=(100,1))"
   ]
  },
  {
   "cell_type": "code",
   "execution_count": 4,
   "metadata": {},
   "outputs": [],
   "source": [
    "class TensorData(Dataset):\n",
    "    def __init__(self, x_data, y_data):\n",
    "        self.x_data = torch.FloatTensor(x_data)\n",
    "        self.x_data = self.x_data.permute(0,3,1,2)\n",
    "        self.y_data = torch.FloatTensor(y_data)\n",
    "        self.len = self.y_data.shape[0]\n",
    "\n",
    "    def __getitem__(self, index):\n",
    "        return self.x_data[index], self.y_data[index]\n",
    "\n",
    "    def __len__(self):\n",
    "        return self.len\n"
   ]
  },
  {
   "cell_type": "code",
   "execution_count": 7,
   "metadata": {},
   "outputs": [],
   "source": [
    "train_data = TensorData(train_images, train_labels)\n",
    "train_loader = DataLoader(train_data, batch_size=2, shuffle=True)"
   ]
  },
  {
   "cell_type": "code",
   "execution_count": 8,
   "metadata": {},
   "outputs": [
    {
     "data": {
      "text/plain": [
       "[tensor([[[[0.6588, 0.7647, 0.8471,  ..., 0.6471, 0.1686, 0.3647],\n",
       "           [0.7294, 0.9333, 0.8902,  ..., 0.6039, 0.5137, 0.2784],\n",
       "           [0.2196, 0.3294, 0.6980,  ..., 0.8510, 0.6824, 0.7098],\n",
       "           ...,\n",
       "           [0.2314, 0.6902, 0.1843,  ..., 0.3216, 0.8824, 0.8314],\n",
       "           [0.6667, 0.3333, 0.5020,  ..., 0.5255, 1.0000, 0.5059],\n",
       "           [0.0784, 0.3176, 0.2275,  ..., 0.9059, 0.7333, 0.5882]],\n",
       " \n",
       "          [[0.5059, 0.2235, 0.8471,  ..., 0.9333, 0.7647, 1.0000],\n",
       "           [0.5843, 0.9216, 0.7059,  ..., 0.5451, 0.8235, 0.3882],\n",
       "           [0.5725, 0.5922, 0.9529,  ..., 0.6353, 0.2235, 0.2549],\n",
       "           ...,\n",
       "           [0.1843, 0.0275, 0.1176,  ..., 0.5843, 0.8941, 0.4588],\n",
       "           [0.2667, 0.3490, 0.2471,  ..., 0.8431, 0.2706, 0.6863],\n",
       "           [0.8549, 0.7412, 0.0745,  ..., 0.6706, 0.2902, 0.3647]],\n",
       " \n",
       "          [[0.2353, 0.7647, 0.5451,  ..., 0.1882, 0.0902, 0.4392],\n",
       "           [0.0196, 0.4078, 0.4471,  ..., 0.9529, 0.4000, 0.9922],\n",
       "           [0.6078, 0.9216, 0.6902,  ..., 0.4510, 0.7176, 0.1529],\n",
       "           ...,\n",
       "           [0.4078, 0.6510, 0.3569,  ..., 0.4588, 0.7451, 0.8667],\n",
       "           [0.7725, 0.4627, 0.9569,  ..., 0.2745, 0.0588, 0.2235],\n",
       "           [0.0588, 0.3059, 0.2784,  ..., 0.2980, 0.2745, 0.7922]]],\n",
       " \n",
       " \n",
       "         [[[0.6392, 0.0980, 0.1882,  ..., 0.2745, 0.5843, 0.6980],\n",
       "           [0.4902, 0.5216, 0.0157,  ..., 0.2588, 0.2824, 0.2627],\n",
       "           [0.6667, 0.8196, 0.7255,  ..., 0.7804, 0.4902, 0.2667],\n",
       "           ...,\n",
       "           [0.4314, 0.3216, 0.1804,  ..., 0.0078, 0.2431, 0.6980],\n",
       "           [0.0157, 0.0353, 0.5412,  ..., 0.1529, 0.9765, 0.7451],\n",
       "           [0.8745, 0.4863, 0.0275,  ..., 0.8000, 0.4510, 0.0235]],\n",
       " \n",
       "          [[0.9294, 0.7412, 0.8196,  ..., 0.5059, 1.0000, 0.1176],\n",
       "           [0.3098, 0.5098, 0.4980,  ..., 0.3725, 0.5490, 0.7020],\n",
       "           [0.4157, 0.8471, 0.4039,  ..., 0.2196, 0.7686, 0.3373],\n",
       "           ...,\n",
       "           [0.3059, 0.0353, 0.2784,  ..., 0.1922, 0.3137, 0.3686],\n",
       "           [0.4471, 0.7686, 0.5961,  ..., 0.4745, 0.7216, 0.9059],\n",
       "           [0.6706, 0.8549, 0.2510,  ..., 0.5490, 0.6353, 0.7333]],\n",
       " \n",
       "          [[0.8588, 0.6471, 0.6235,  ..., 0.5843, 0.9255, 0.8196],\n",
       "           [0.8980, 0.7569, 0.0314,  ..., 0.8980, 0.0039, 0.8510],\n",
       "           [0.0392, 0.7098, 0.4902,  ..., 0.2431, 0.2941, 0.5294],\n",
       "           ...,\n",
       "           [0.6549, 0.5843, 0.2510,  ..., 0.4314, 0.0118, 0.6627],\n",
       "           [0.7451, 0.1176, 0.8706,  ..., 0.0510, 0.2353, 0.7647],\n",
       "           [0.2863, 0.6941, 0.8392,  ..., 0.7176, 0.8431, 0.6980]]]]),\n",
       " tensor([[0.],\n",
       "         [1.]])]"
      ]
     },
     "execution_count": 8,
     "metadata": {},
     "output_type": "execute_result"
    }
   ],
   "source": [
    "iter(train_loader).next()"
   ]
  },
  {
   "cell_type": "code",
   "execution_count": null,
   "metadata": {},
   "outputs": [],
   "source": []
  }
 ],
 "metadata": {
  "interpreter": {
   "hash": "f7b3696bbf49b2a50ef1adf7077f2aae425138456588ce2492db2fb5bbf26d67"
  },
  "kernelspec": {
   "display_name": "Python 3.9.4 64-bit",
   "language": "python",
   "name": "python3"
  },
  "language_info": {
   "codemirror_mode": {
    "name": "ipython",
    "version": 3
   },
   "file_extension": ".py",
   "mimetype": "text/x-python",
   "name": "python",
   "nbconvert_exporter": "python",
   "pygments_lexer": "ipython3",
   "version": "3.9.4"
  },
  "orig_nbformat": 4
 },
 "nbformat": 4,
 "nbformat_minor": 2
}
